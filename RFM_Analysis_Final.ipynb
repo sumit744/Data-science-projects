{
 "cells": [
  {
   "cell_type": "markdown",
   "metadata": {},
   "source": [
    "# RFM Analysis\n",
    "\n"
   ]
  },
  {
   "cell_type": "markdown",
   "metadata": {},
   "source": [
    "**Task 1**<br><br>\n",
    "Based on R, F, M variables, build a 5 or 6-segment solution (using K-Means),whichever is more meaningful and actionable to you. Define each of these segments and select the two most important segments for this business to act upon. Why do you think these two segments are important? What Marketing actions do you propose to take, to target and derive more business from these two segments?"
   ]
  },
  {
   "cell_type": "code",
   "execution_count": 70,
   "metadata": {},
   "outputs": [],
   "source": [
    "# Importing Packages\n",
    "\n",
    "import numpy as np\n",
    "import pandas as pd\n",
    "from datetime import date\n",
    "import matplotlib.pyplot as plt\n",
    "import seaborn as sns\n",
    "from sklearn.preprocessing import StandardScaler\n",
    "from sklearn.cluster import KMeans\n",
    "import warnings\n",
    "warnings.filterwarnings(\"ignore\")\n",
    "%matplotlib inline"
   ]
  },
  {
   "cell_type": "code",
   "execution_count": 2,
   "metadata": {},
   "outputs": [
    {
     "data": {
      "text/html": [
       "<div>\n",
       "<style scoped>\n",
       "    .dataframe tbody tr th:only-of-type {\n",
       "        vertical-align: middle;\n",
       "    }\n",
       "\n",
       "    .dataframe tbody tr th {\n",
       "        vertical-align: top;\n",
       "    }\n",
       "\n",
       "    .dataframe thead th {\n",
       "        text-align: right;\n",
       "    }\n",
       "</style>\n",
       "<table border=\"1\" class=\"dataframe\">\n",
       "  <thead>\n",
       "    <tr style=\"text-align: right;\">\n",
       "      <th></th>\n",
       "      <th>customer_id</th>\n",
       "      <th>purchase_amt</th>\n",
       "      <th>purchase_date</th>\n",
       "    </tr>\n",
       "  </thead>\n",
       "  <tbody>\n",
       "    <tr>\n",
       "      <th>0</th>\n",
       "      <td>760</td>\n",
       "      <td>25.0</td>\n",
       "      <td>2009-11-06</td>\n",
       "    </tr>\n",
       "    <tr>\n",
       "      <th>1</th>\n",
       "      <td>860</td>\n",
       "      <td>50.0</td>\n",
       "      <td>2012-09-28</td>\n",
       "    </tr>\n",
       "    <tr>\n",
       "      <th>2</th>\n",
       "      <td>1200</td>\n",
       "      <td>100.0</td>\n",
       "      <td>2005-10-25</td>\n",
       "    </tr>\n",
       "    <tr>\n",
       "      <th>3</th>\n",
       "      <td>1420</td>\n",
       "      <td>50.0</td>\n",
       "      <td>2009-07-09</td>\n",
       "    </tr>\n",
       "    <tr>\n",
       "      <th>4</th>\n",
       "      <td>1940</td>\n",
       "      <td>70.0</td>\n",
       "      <td>2013-01-25</td>\n",
       "    </tr>\n",
       "  </tbody>\n",
       "</table>\n",
       "</div>"
      ],
      "text/plain": [
       "   customer_id  purchase_amt purchase_date\n",
       "0          760          25.0    2009-11-06\n",
       "1          860          50.0    2012-09-28\n",
       "2         1200         100.0    2005-10-25\n",
       "3         1420          50.0    2009-07-09\n",
       "4         1940          70.0    2013-01-25"
      ]
     },
     "execution_count": 2,
     "metadata": {},
     "output_type": "execute_result"
    }
   ],
   "source": [
    "# Importing Datasets\n",
    "\n",
    "purchases_df = pd.read_csv('purchases.txt', sep='\\t', header=None, names=['customer_id','purchase_amt','purchase_date'])\n",
    "purchases_df.head()"
   ]
  },
  {
   "cell_type": "code",
   "execution_count": 3,
   "metadata": {},
   "outputs": [
    {
     "name": "stdout",
     "output_type": "stream",
     "text": [
      "<class 'pandas.core.frame.DataFrame'>\n",
      "RangeIndex: 51243 entries, 0 to 51242\n",
      "Data columns (total 3 columns):\n",
      " #   Column         Non-Null Count  Dtype  \n",
      "---  ------         --------------  -----  \n",
      " 0   customer_id    51243 non-null  int64  \n",
      " 1   purchase_amt   51243 non-null  float64\n",
      " 2   purchase_date  51243 non-null  object \n",
      "dtypes: float64(1), int64(1), object(1)\n",
      "memory usage: 1.2+ MB\n"
     ]
    }
   ],
   "source": [
    "purchases_df.info(verbose=True)"
   ]
  },
  {
   "cell_type": "code",
   "execution_count": 4,
   "metadata": {},
   "outputs": [],
   "source": [
    "# Converting purchase_date as date object\n",
    "\n",
    "purchases_df.purchase_date = pd.to_datetime(purchases_df.purchase_date, format='%Y-%m-%d')"
   ]
  },
  {
   "cell_type": "code",
   "execution_count": 5,
   "metadata": {},
   "outputs": [
    {
     "data": {
      "text/plain": [
       "count                   51243\n",
       "unique                   1879\n",
       "top       2013-12-31 00:00:00\n",
       "freq                      864\n",
       "first     2005-01-02 00:00:00\n",
       "last      2015-12-31 00:00:00\n",
       "Name: purchase_date, dtype: object"
      ]
     },
     "execution_count": 5,
     "metadata": {},
     "output_type": "execute_result"
    }
   ],
   "source": [
    "purchases_df.purchase_date.describe()"
   ]
  },
  {
   "cell_type": "code",
   "execution_count": 6,
   "metadata": {},
   "outputs": [],
   "source": [
    "# Calculating when the customer last visited the store\n",
    "\n",
    "current_date = pd.to_datetime(date(2016, 1, 1))\n",
    "purchases_df['days_since'] = pd.Series([(current_date - purchases_df.purchase_date[num]).days \n",
    "                                        for num in np.arange(len(purchases_df))])"
   ]
  },
  {
   "cell_type": "code",
   "execution_count": 7,
   "metadata": {},
   "outputs": [
    {
     "data": {
      "text/html": [
       "<div>\n",
       "<style scoped>\n",
       "    .dataframe tbody tr th:only-of-type {\n",
       "        vertical-align: middle;\n",
       "    }\n",
       "\n",
       "    .dataframe tbody tr th {\n",
       "        vertical-align: top;\n",
       "    }\n",
       "\n",
       "    .dataframe thead th {\n",
       "        text-align: right;\n",
       "    }\n",
       "</style>\n",
       "<table border=\"1\" class=\"dataframe\">\n",
       "  <thead>\n",
       "    <tr style=\"text-align: right;\">\n",
       "      <th></th>\n",
       "      <th>customer_id</th>\n",
       "      <th>purchase_amt</th>\n",
       "      <th>purchase_date</th>\n",
       "      <th>days_since</th>\n",
       "    </tr>\n",
       "  </thead>\n",
       "  <tbody>\n",
       "    <tr>\n",
       "      <th>0</th>\n",
       "      <td>760</td>\n",
       "      <td>25.0</td>\n",
       "      <td>2009-11-06</td>\n",
       "      <td>2247</td>\n",
       "    </tr>\n",
       "    <tr>\n",
       "      <th>1</th>\n",
       "      <td>860</td>\n",
       "      <td>50.0</td>\n",
       "      <td>2012-09-28</td>\n",
       "      <td>1190</td>\n",
       "    </tr>\n",
       "    <tr>\n",
       "      <th>2</th>\n",
       "      <td>1200</td>\n",
       "      <td>100.0</td>\n",
       "      <td>2005-10-25</td>\n",
       "      <td>3720</td>\n",
       "    </tr>\n",
       "    <tr>\n",
       "      <th>3</th>\n",
       "      <td>1420</td>\n",
       "      <td>50.0</td>\n",
       "      <td>2009-07-09</td>\n",
       "      <td>2367</td>\n",
       "    </tr>\n",
       "    <tr>\n",
       "      <th>4</th>\n",
       "      <td>1940</td>\n",
       "      <td>70.0</td>\n",
       "      <td>2013-01-25</td>\n",
       "      <td>1071</td>\n",
       "    </tr>\n",
       "  </tbody>\n",
       "</table>\n",
       "</div>"
      ],
      "text/plain": [
       "   customer_id  purchase_amt purchase_date  days_since\n",
       "0          760          25.0    2009-11-06        2247\n",
       "1          860          50.0    2012-09-28        1190\n",
       "2         1200         100.0    2005-10-25        3720\n",
       "3         1420          50.0    2009-07-09        2367\n",
       "4         1940          70.0    2013-01-25        1071"
      ]
     },
     "execution_count": 7,
     "metadata": {},
     "output_type": "execute_result"
    }
   ],
   "source": [
    "purchases_df.head()"
   ]
  },
  {
   "cell_type": "code",
   "execution_count": 8,
   "metadata": {},
   "outputs": [
    {
     "data": {
      "text/html": [
       "<div>\n",
       "<style scoped>\n",
       "    .dataframe tbody tr th:only-of-type {\n",
       "        vertical-align: middle;\n",
       "    }\n",
       "\n",
       "    .dataframe tbody tr th {\n",
       "        vertical-align: top;\n",
       "    }\n",
       "\n",
       "    .dataframe thead th {\n",
       "        text-align: right;\n",
       "    }\n",
       "</style>\n",
       "<table border=\"1\" class=\"dataframe\">\n",
       "  <thead>\n",
       "    <tr style=\"text-align: right;\">\n",
       "      <th></th>\n",
       "      <th>customer_id</th>\n",
       "      <th>purchase_amt</th>\n",
       "      <th>days_since</th>\n",
       "    </tr>\n",
       "  </thead>\n",
       "  <tbody>\n",
       "    <tr>\n",
       "      <th>count</th>\n",
       "      <td>51243.000000</td>\n",
       "      <td>51243.000000</td>\n",
       "      <td>51243.000000</td>\n",
       "    </tr>\n",
       "    <tr>\n",
       "      <th>mean</th>\n",
       "      <td>108934.547938</td>\n",
       "      <td>62.337195</td>\n",
       "      <td>1631.939309</td>\n",
       "    </tr>\n",
       "    <tr>\n",
       "      <th>std</th>\n",
       "      <td>67650.610139</td>\n",
       "      <td>156.606801</td>\n",
       "      <td>1061.076889</td>\n",
       "    </tr>\n",
       "    <tr>\n",
       "      <th>min</th>\n",
       "      <td>10.000000</td>\n",
       "      <td>5.000000</td>\n",
       "      <td>1.000000</td>\n",
       "    </tr>\n",
       "    <tr>\n",
       "      <th>25%</th>\n",
       "      <td>57720.000000</td>\n",
       "      <td>25.000000</td>\n",
       "      <td>733.000000</td>\n",
       "    </tr>\n",
       "    <tr>\n",
       "      <th>50%</th>\n",
       "      <td>102440.000000</td>\n",
       "      <td>30.000000</td>\n",
       "      <td>1500.000000</td>\n",
       "    </tr>\n",
       "    <tr>\n",
       "      <th>75%</th>\n",
       "      <td>160525.000000</td>\n",
       "      <td>60.000000</td>\n",
       "      <td>2540.000000</td>\n",
       "    </tr>\n",
       "    <tr>\n",
       "      <th>max</th>\n",
       "      <td>264200.000000</td>\n",
       "      <td>4500.000000</td>\n",
       "      <td>4016.000000</td>\n",
       "    </tr>\n",
       "  </tbody>\n",
       "</table>\n",
       "</div>"
      ],
      "text/plain": [
       "         customer_id  purchase_amt    days_since\n",
       "count   51243.000000  51243.000000  51243.000000\n",
       "mean   108934.547938     62.337195   1631.939309\n",
       "std     67650.610139    156.606801   1061.076889\n",
       "min        10.000000      5.000000      1.000000\n",
       "25%     57720.000000     25.000000    733.000000\n",
       "50%    102440.000000     30.000000   1500.000000\n",
       "75%    160525.000000     60.000000   2540.000000\n",
       "max    264200.000000   4500.000000   4016.000000"
      ]
     },
     "execution_count": 8,
     "metadata": {},
     "output_type": "execute_result"
    }
   ],
   "source": [
    "# Examining the charateristics of numerical variables\n",
    "\n",
    "purchases_df.describe()"
   ]
  },
  {
   "cell_type": "code",
   "execution_count": 9,
   "metadata": {},
   "outputs": [],
   "source": [
    "# Calculating Frequency of visit to the store, how recently visted the store and average purchase amount for each customer \n",
    "\n",
    "frequency = purchases_df.groupby(['customer_id']).size().to_frame('frequency').reset_index()\n",
    "recency_amt = purchases_df.groupby(['customer_id']).agg({'days_since':min,'purchase_amt':'mean'}).reset_index()\n",
    "recency_amt.rename(columns={'days_since':'recency', 'purchase_amt':'avg_purchase_amt'}, inplace = True)"
   ]
  },
  {
   "cell_type": "code",
   "execution_count": 10,
   "metadata": {},
   "outputs": [],
   "source": [
    "# Creating new customer dataframe which contain R, F and M for each customer \n",
    "\n",
    "customer_df = pd.merge(frequency, recency_amt, on='customer_id')"
   ]
  },
  {
   "cell_type": "code",
   "execution_count": 11,
   "metadata": {},
   "outputs": [
    {
     "data": {
      "text/html": [
       "<div>\n",
       "<style scoped>\n",
       "    .dataframe tbody tr th:only-of-type {\n",
       "        vertical-align: middle;\n",
       "    }\n",
       "\n",
       "    .dataframe tbody tr th {\n",
       "        vertical-align: top;\n",
       "    }\n",
       "\n",
       "    .dataframe thead th {\n",
       "        text-align: right;\n",
       "    }\n",
       "</style>\n",
       "<table border=\"1\" class=\"dataframe\">\n",
       "  <thead>\n",
       "    <tr style=\"text-align: right;\">\n",
       "      <th></th>\n",
       "      <th>customer_id</th>\n",
       "      <th>frequency</th>\n",
       "      <th>recency</th>\n",
       "      <th>avg_purchase_amt</th>\n",
       "    </tr>\n",
       "  </thead>\n",
       "  <tbody>\n",
       "    <tr>\n",
       "      <th>0</th>\n",
       "      <td>10</td>\n",
       "      <td>1</td>\n",
       "      <td>3829</td>\n",
       "      <td>30.000000</td>\n",
       "    </tr>\n",
       "    <tr>\n",
       "      <th>1</th>\n",
       "      <td>80</td>\n",
       "      <td>7</td>\n",
       "      <td>343</td>\n",
       "      <td>71.428571</td>\n",
       "    </tr>\n",
       "    <tr>\n",
       "      <th>2</th>\n",
       "      <td>90</td>\n",
       "      <td>10</td>\n",
       "      <td>758</td>\n",
       "      <td>115.800000</td>\n",
       "    </tr>\n",
       "    <tr>\n",
       "      <th>3</th>\n",
       "      <td>120</td>\n",
       "      <td>1</td>\n",
       "      <td>1401</td>\n",
       "      <td>20.000000</td>\n",
       "    </tr>\n",
       "    <tr>\n",
       "      <th>4</th>\n",
       "      <td>130</td>\n",
       "      <td>2</td>\n",
       "      <td>2970</td>\n",
       "      <td>50.000000</td>\n",
       "    </tr>\n",
       "  </tbody>\n",
       "</table>\n",
       "</div>"
      ],
      "text/plain": [
       "   customer_id  frequency  recency  avg_purchase_amt\n",
       "0           10          1     3829         30.000000\n",
       "1           80          7      343         71.428571\n",
       "2           90         10      758        115.800000\n",
       "3          120          1     1401         20.000000\n",
       "4          130          2     2970         50.000000"
      ]
     },
     "execution_count": 11,
     "metadata": {},
     "output_type": "execute_result"
    }
   ],
   "source": [
    "customer_df.head()"
   ]
  },
  {
   "cell_type": "code",
   "execution_count": 12,
   "metadata": {},
   "outputs": [
    {
     "data": {
      "text/html": [
       "<div>\n",
       "<style scoped>\n",
       "    .dataframe tbody tr th:only-of-type {\n",
       "        vertical-align: middle;\n",
       "    }\n",
       "\n",
       "    .dataframe tbody tr th {\n",
       "        vertical-align: top;\n",
       "    }\n",
       "\n",
       "    .dataframe thead th {\n",
       "        text-align: right;\n",
       "    }\n",
       "</style>\n",
       "<table border=\"1\" class=\"dataframe\">\n",
       "  <thead>\n",
       "    <tr style=\"text-align: right;\">\n",
       "      <th></th>\n",
       "      <th>customer_id</th>\n",
       "      <th>frequency</th>\n",
       "      <th>recency</th>\n",
       "      <th>avg_purchase_amt</th>\n",
       "    </tr>\n",
       "  </thead>\n",
       "  <tbody>\n",
       "    <tr>\n",
       "      <th>count</th>\n",
       "      <td>18417.000000</td>\n",
       "      <td>18417.000000</td>\n",
       "      <td>18417.000000</td>\n",
       "      <td>18417.000000</td>\n",
       "    </tr>\n",
       "    <tr>\n",
       "      <th>mean</th>\n",
       "      <td>137573.510887</td>\n",
       "      <td>2.782375</td>\n",
       "      <td>1253.037900</td>\n",
       "      <td>57.792985</td>\n",
       "    </tr>\n",
       "    <tr>\n",
       "      <th>std</th>\n",
       "      <td>69504.599881</td>\n",
       "      <td>2.936888</td>\n",
       "      <td>1081.437868</td>\n",
       "      <td>154.360109</td>\n",
       "    </tr>\n",
       "    <tr>\n",
       "      <th>min</th>\n",
       "      <td>10.000000</td>\n",
       "      <td>1.000000</td>\n",
       "      <td>1.000000</td>\n",
       "      <td>5.000000</td>\n",
       "    </tr>\n",
       "    <tr>\n",
       "      <th>25%</th>\n",
       "      <td>81990.000000</td>\n",
       "      <td>1.000000</td>\n",
       "      <td>244.000000</td>\n",
       "      <td>21.666667</td>\n",
       "    </tr>\n",
       "    <tr>\n",
       "      <th>50%</th>\n",
       "      <td>136430.000000</td>\n",
       "      <td>2.000000</td>\n",
       "      <td>1070.000000</td>\n",
       "      <td>30.000000</td>\n",
       "    </tr>\n",
       "    <tr>\n",
       "      <th>75%</th>\n",
       "      <td>195100.000000</td>\n",
       "      <td>3.000000</td>\n",
       "      <td>2130.000000</td>\n",
       "      <td>50.000000</td>\n",
       "    </tr>\n",
       "    <tr>\n",
       "      <th>max</th>\n",
       "      <td>264200.000000</td>\n",
       "      <td>45.000000</td>\n",
       "      <td>4014.000000</td>\n",
       "      <td>4500.000000</td>\n",
       "    </tr>\n",
       "  </tbody>\n",
       "</table>\n",
       "</div>"
      ],
      "text/plain": [
       "         customer_id     frequency       recency  avg_purchase_amt\n",
       "count   18417.000000  18417.000000  18417.000000      18417.000000\n",
       "mean   137573.510887      2.782375   1253.037900         57.792985\n",
       "std     69504.599881      2.936888   1081.437868        154.360109\n",
       "min        10.000000      1.000000      1.000000          5.000000\n",
       "25%     81990.000000      1.000000    244.000000         21.666667\n",
       "50%    136430.000000      2.000000   1070.000000         30.000000\n",
       "75%    195100.000000      3.000000   2130.000000         50.000000\n",
       "max    264200.000000     45.000000   4014.000000       4500.000000"
      ]
     },
     "execution_count": 12,
     "metadata": {},
     "output_type": "execute_result"
    }
   ],
   "source": [
    "# Examining the charateristics of numerical variables\n",
    "\n",
    "customer_df.describe()"
   ]
  },
  {
   "cell_type": "code",
   "execution_count": 13,
   "metadata": {},
   "outputs": [
    {
     "data": {
      "text/plain": [
       "Text(0, 0.5, 'No of Customers')"
      ]
     },
     "execution_count": 13,
     "metadata": {},
     "output_type": "execute_result"
    },
    {
     "data": {
      "image/png": "[encoded data removed]",
      "text/plain": [
       "<Figure size 1080x360 with 1 Axes>"
      ]
     },
     "metadata": {
      "needs_background": "light"
     },
     "output_type": "display_data"
    }
   ],
   "source": [
    "# Plotting histogram for Frequency variable\n",
    "\n",
    "plt.figure(figsize=(15,5))\n",
    "plt.hist(customer_df.frequency)\n",
    "plt.xlabel('Frequency')\n",
    "plt.ylabel('No of Customers')"
   ]
  },
  {
   "cell_type": "code",
   "execution_count": 14,
   "metadata": {},
   "outputs": [
    {
     "data": {
      "text/plain": [
       "Text(0, 0.5, 'No of Customers')"
      ]
     },
     "execution_count": 14,
     "metadata": {},
     "output_type": "execute_result"
    },
    {
     "data": {
      "image/png": "[encoded data removed]",
      "text/plain": [
       "<Figure size 1080x360 with 1 Axes>"
      ]
     },
     "metadata": {
      "needs_background": "light"
     },
     "output_type": "display_data"
    }
   ],
   "source": [
    "# Plotting histogram for Recency variable\n",
    "\n",
    "plt.figure(figsize=(15,5))\n",
    "plt.hist(customer_df.recency)\n",
    "plt.xlabel('Recency')\n",
    "plt.ylabel('No of Customers')"
   ]
  },
  {
   "cell_type": "code",
   "execution_count": 15,
   "metadata": {},
   "outputs": [
    {
     "data": {
      "text/plain": [
       "Text(0, 0.5, 'No of Customers')"
      ]
     },
     "execution_count": 15,
     "metadata": {},
     "output_type": "execute_result"
    },
    {
     "data": {
      "image/png": "[encoded data removed]",
      "text/plain": [
       "<Figure size 1080x360 with 1 Axes>"
      ]
     },
     "metadata": {
      "needs_background": "light"
     },
     "output_type": "display_data"
    }
   ],
   "source": [
    "# Plotting histogram for the Average purchase amount\n",
    "\n",
    "plt.figure(figsize=(15,5))\n",
    "plt.hist(customer_df.avg_purchase_amt)\n",
    "plt.xlabel('Average Bill Amount')\n",
    "plt.ylabel('No of Customers')"
   ]
  },
  {
   "cell_type": "code",
   "execution_count": 16,
   "metadata": {},
   "outputs": [
    {
     "data": {
      "text/plain": [
       "Text(0, 0.5, 'No of Customers')"
      ]
     },
     "execution_count": 16,
     "metadata": {},
     "output_type": "execute_result"
    },
    {
     "data": {
      "image/png": "[encoded data removed]",
      "text/plain": [
       "<Figure size 1080x360 with 1 Axes>"
      ]
     },
     "metadata": {
      "needs_background": "light"
     },
     "output_type": "display_data"
    }
   ],
   "source": [
    "# Creating bins to plot histogram of Average purchase amount \n",
    "\n",
    "plt.figure(figsize=(15,5))\n",
    "plt.hist(customer_df.avg_purchase_amt, bins=100)\n",
    "plt.xlabel('Average Bill Amount')\n",
    "plt.ylabel('No of Customers')"
   ]
  },
  {
   "cell_type": "code",
   "execution_count": 17,
   "metadata": {},
   "outputs": [],
   "source": [
    "# Normalizing the data. as the data is right skewed for the average purchase amount\n",
    "\n",
    "customer_df.avg_purchase_amt = np.log(customer_df.avg_purchase_amt)"
   ]
  },
  {
   "cell_type": "code",
   "execution_count": 18,
   "metadata": {},
   "outputs": [
    {
     "data": {
      "text/plain": [
       "Text(0, 0.5, 'No of Customers')"
      ]
     },
     "execution_count": 18,
     "metadata": {},
     "output_type": "execute_result"
    },
    {
     "data": {
      "image/png": "[encoded data removed]",
      "text/plain": [
       "<Figure size 1080x360 with 1 Axes>"
      ]
     },
     "metadata": {
      "needs_background": "light"
     },
     "output_type": "display_data"
    }
   ],
   "source": [
    "# Plotting histogram for avaerge purchase amount after normalizing the data \n",
    "\n",
    "plt.figure(figsize=(15,5))\n",
    "plt.hist(customer_df.avg_purchase_amt)\n",
    "plt.xlabel('Average Bill Amount')\n",
    "plt.ylabel('No of Customers')"
   ]
  },
  {
   "cell_type": "code",
   "execution_count": 19,
   "metadata": {},
   "outputs": [],
   "source": [
    "# Dropping the customer_id column \n",
    "\n",
    "customer_df.drop(columns=['customer_id'], axis=1, inplace=True)\n",
    "cols = customer_df.columns"
   ]
  },
  {
   "cell_type": "code",
   "execution_count": 20,
   "metadata": {},
   "outputs": [],
   "source": [
    "# Standardizinf the data because the values in each feature are on different scales\n",
    "\n",
    "scaler = StandardScaler()\n",
    "scaled_data = scaler.fit_transform(customer_df)\n",
    "for num in np.arange(customer_df.shape[1]):\n",
    "    customer_df.iloc[:,num] = scaled_data[:,num]"
   ]
  },
  {
   "cell_type": "code",
   "execution_count": 21,
   "metadata": {},
   "outputs": [
    {
     "data": {
      "text/html": [
       "<div>\n",
       "<style scoped>\n",
       "    .dataframe tbody tr th:only-of-type {\n",
       "        vertical-align: middle;\n",
       "    }\n",
       "\n",
       "    .dataframe tbody tr th {\n",
       "        vertical-align: top;\n",
       "    }\n",
       "\n",
       "    .dataframe thead th {\n",
       "        text-align: right;\n",
       "    }\n",
       "</style>\n",
       "<table border=\"1\" class=\"dataframe\">\n",
       "  <thead>\n",
       "    <tr style=\"text-align: right;\">\n",
       "      <th></th>\n",
       "      <th>frequency</th>\n",
       "      <th>recency</th>\n",
       "      <th>avg_purchase_amt</th>\n",
       "    </tr>\n",
       "  </thead>\n",
       "  <tbody>\n",
       "    <tr>\n",
       "      <th>0</th>\n",
       "      <td>-0.606909</td>\n",
       "      <td>2.382043</td>\n",
       "      <td>-0.235802</td>\n",
       "    </tr>\n",
       "    <tr>\n",
       "      <th>1</th>\n",
       "      <td>1.436125</td>\n",
       "      <td>-0.841530</td>\n",
       "      <td>0.894386</td>\n",
       "    </tr>\n",
       "    <tr>\n",
       "      <th>2</th>\n",
       "      <td>2.457642</td>\n",
       "      <td>-0.457771</td>\n",
       "      <td>1.523861</td>\n",
       "    </tr>\n",
       "    <tr>\n",
       "      <th>3</th>\n",
       "      <td>-0.606909</td>\n",
       "      <td>0.136824</td>\n",
       "      <td>-0.764046</td>\n",
       "    </tr>\n",
       "    <tr>\n",
       "      <th>4</th>\n",
       "      <td>-0.266403</td>\n",
       "      <td>1.587709</td>\n",
       "      <td>0.429707</td>\n",
       "    </tr>\n",
       "  </tbody>\n",
       "</table>\n",
       "</div>"
      ],
      "text/plain": [
       "   frequency   recency  avg_purchase_amt\n",
       "0  -0.606909  2.382043         -0.235802\n",
       "1   1.436125 -0.841530          0.894386\n",
       "2   2.457642 -0.457771          1.523861\n",
       "3  -0.606909  0.136824         -0.764046\n",
       "4  -0.266403  1.587709          0.429707"
      ]
     },
     "execution_count": 21,
     "metadata": {},
     "output_type": "execute_result"
    }
   ],
   "source": [
    "customer_df.head()"
   ]
  },
  {
   "cell_type": "code",
   "execution_count": 22,
   "metadata": {},
   "outputs": [],
   "source": [
    "# After analysing, 5 cluster solution is more meaningful than 6 cluster.\n",
    "# Initializing KMeans algorithm and fitting\n",
    "\n",
    "kmeans_5 = KMeans(n_clusters=5, random_state=100).fit(customer_df)"
   ]
  },
  {
   "cell_type": "code",
   "execution_count": 23,
   "metadata": {},
   "outputs": [],
   "source": [
    "# Predicting\n",
    "\n",
    "predicted_5 = kmeans_5.predict(customer_df)"
   ]
  },
  {
   "cell_type": "code",
   "execution_count": 24,
   "metadata": {},
   "outputs": [],
   "source": [
    "# Scaling back the data to it's original form\n",
    "\n",
    "customer_df = scaler.inverse_transform(customer_df)"
   ]
  },
  {
   "cell_type": "code",
   "execution_count": 25,
   "metadata": {},
   "outputs": [],
   "source": [
    "customer_df = pd.DataFrame(customer_df, columns=cols)"
   ]
  },
  {
   "cell_type": "code",
   "execution_count": 26,
   "metadata": {},
   "outputs": [
    {
     "data": {
      "text/html": [
       "<div>\n",
       "<style scoped>\n",
       "    .dataframe tbody tr th:only-of-type {\n",
       "        vertical-align: middle;\n",
       "    }\n",
       "\n",
       "    .dataframe tbody tr th {\n",
       "        vertical-align: top;\n",
       "    }\n",
       "\n",
       "    .dataframe thead th {\n",
       "        text-align: right;\n",
       "    }\n",
       "</style>\n",
       "<table border=\"1\" class=\"dataframe\">\n",
       "  <thead>\n",
       "    <tr style=\"text-align: right;\">\n",
       "      <th></th>\n",
       "      <th>frequency</th>\n",
       "      <th>recency</th>\n",
       "      <th>avg_purchase_amt</th>\n",
       "    </tr>\n",
       "  </thead>\n",
       "  <tbody>\n",
       "    <tr>\n",
       "      <th>0</th>\n",
       "      <td>1.0</td>\n",
       "      <td>3829.0</td>\n",
       "      <td>30.000000</td>\n",
       "    </tr>\n",
       "    <tr>\n",
       "      <th>1</th>\n",
       "      <td>7.0</td>\n",
       "      <td>343.0</td>\n",
       "      <td>71.428571</td>\n",
       "    </tr>\n",
       "    <tr>\n",
       "      <th>2</th>\n",
       "      <td>10.0</td>\n",
       "      <td>758.0</td>\n",
       "      <td>115.800000</td>\n",
       "    </tr>\n",
       "    <tr>\n",
       "      <th>3</th>\n",
       "      <td>1.0</td>\n",
       "      <td>1401.0</td>\n",
       "      <td>20.000000</td>\n",
       "    </tr>\n",
       "    <tr>\n",
       "      <th>4</th>\n",
       "      <td>2.0</td>\n",
       "      <td>2970.0</td>\n",
       "      <td>50.000000</td>\n",
       "    </tr>\n",
       "  </tbody>\n",
       "</table>\n",
       "</div>"
      ],
      "text/plain": [
       "   frequency  recency  avg_purchase_amt\n",
       "0        1.0   3829.0         30.000000\n",
       "1        7.0    343.0         71.428571\n",
       "2       10.0    758.0        115.800000\n",
       "3        1.0   1401.0         20.000000\n",
       "4        2.0   2970.0         50.000000"
      ]
     },
     "execution_count": 26,
     "metadata": {},
     "output_type": "execute_result"
    }
   ],
   "source": [
    "customer_df.avg_purchase_amt = np.exp(customer_df.avg_purchase_amt)\n",
    "customer_df.head()"
   ]
  },
  {
   "cell_type": "code",
   "execution_count": 27,
   "metadata": {},
   "outputs": [],
   "source": [
    "customer_df_5 = customer_df.copy(deep=True)"
   ]
  },
  {
   "cell_type": "code",
   "execution_count": 28,
   "metadata": {},
   "outputs": [],
   "source": [
    "# Mapping cluster ID to each customer\n",
    "\n",
    "customer_df_5['cluster_ID'] = pd.Series(predicted_5, index=customer_df_5.index)"
   ]
  },
  {
   "cell_type": "code",
   "execution_count": 29,
   "metadata": {
    "scrolled": true
   },
   "outputs": [
    {
     "data": {
      "text/html": [
       "<div>\n",
       "<style scoped>\n",
       "    .dataframe tbody tr th:only-of-type {\n",
       "        vertical-align: middle;\n",
       "    }\n",
       "\n",
       "    .dataframe tbody tr th {\n",
       "        vertical-align: top;\n",
       "    }\n",
       "\n",
       "    .dataframe thead th {\n",
       "        text-align: right;\n",
       "    }\n",
       "</style>\n",
       "<table border=\"1\" class=\"dataframe\">\n",
       "  <thead>\n",
       "    <tr style=\"text-align: right;\">\n",
       "      <th></th>\n",
       "      <th>frequency</th>\n",
       "      <th>recency</th>\n",
       "      <th>avg_purchase_amt</th>\n",
       "      <th>cluster_ID</th>\n",
       "    </tr>\n",
       "  </thead>\n",
       "  <tbody>\n",
       "    <tr>\n",
       "      <th>0</th>\n",
       "      <td>1.0</td>\n",
       "      <td>3829.0</td>\n",
       "      <td>30.000000</td>\n",
       "      <td>2</td>\n",
       "    </tr>\n",
       "    <tr>\n",
       "      <th>1</th>\n",
       "      <td>7.0</td>\n",
       "      <td>343.0</td>\n",
       "      <td>71.428571</td>\n",
       "      <td>1</td>\n",
       "    </tr>\n",
       "    <tr>\n",
       "      <th>2</th>\n",
       "      <td>10.0</td>\n",
       "      <td>758.0</td>\n",
       "      <td>115.800000</td>\n",
       "      <td>1</td>\n",
       "    </tr>\n",
       "    <tr>\n",
       "      <th>3</th>\n",
       "      <td>1.0</td>\n",
       "      <td>1401.0</td>\n",
       "      <td>20.000000</td>\n",
       "      <td>0</td>\n",
       "    </tr>\n",
       "    <tr>\n",
       "      <th>4</th>\n",
       "      <td>2.0</td>\n",
       "      <td>2970.0</td>\n",
       "      <td>50.000000</td>\n",
       "      <td>2</td>\n",
       "    </tr>\n",
       "  </tbody>\n",
       "</table>\n",
       "</div>"
      ],
      "text/plain": [
       "   frequency  recency  avg_purchase_amt  cluster_ID\n",
       "0        1.0   3829.0         30.000000           2\n",
       "1        7.0    343.0         71.428571           1\n",
       "2       10.0    758.0        115.800000           1\n",
       "3        1.0   1401.0         20.000000           0\n",
       "4        2.0   2970.0         50.000000           2"
      ]
     },
     "execution_count": 29,
     "metadata": {},
     "output_type": "execute_result"
    }
   ],
   "source": [
    "customer_df_5.head()"
   ]
  },
  {
   "cell_type": "code",
   "execution_count": 30,
   "metadata": {},
   "outputs": [],
   "source": [
    "# Grouping by the cluster_ID to get the cluster charateristics\n",
    "\n",
    "customer_df_new = customer_df_5.groupby(['cluster_ID']).agg({'frequency':'mean','recency':'mean','avg_purchase_amt':'median'}).reset_index()"
   ]
  },
  {
   "cell_type": "code",
   "execution_count": 31,
   "metadata": {},
   "outputs": [
    {
     "data": {
      "text/plain": [
       "{0: 5532, 1: 2186, 2: 5772, 3: 647, 4: 4280}"
      ]
     },
     "execution_count": 31,
     "metadata": {},
     "output_type": "execute_result"
    }
   ],
   "source": [
    "# Calculating the cluster size  \n",
    "\n",
    "unique, counts = np.unique(predicted_5, return_counts=True)\n",
    "dict(zip(unique, counts))"
   ]
  },
  {
   "cell_type": "code",
   "execution_count": 32,
   "metadata": {},
   "outputs": [],
   "source": [
    "# Mapping the cluster size to the each cluster \n",
    "\n",
    "customer_df_new[\"cluster_size\"] = pd.Series(counts,index=customer_df_new.index)"
   ]
  },
  {
   "cell_type": "code",
   "execution_count": 33,
   "metadata": {},
   "outputs": [
    {
     "data": {
      "text/html": [
       "<div>\n",
       "<style scoped>\n",
       "    .dataframe tbody tr th:only-of-type {\n",
       "        vertical-align: middle;\n",
       "    }\n",
       "\n",
       "    .dataframe tbody tr th {\n",
       "        vertical-align: top;\n",
       "    }\n",
       "\n",
       "    .dataframe thead th {\n",
       "        text-align: right;\n",
       "    }\n",
       "</style>\n",
       "<table border=\"1\" class=\"dataframe\">\n",
       "  <thead>\n",
       "    <tr style=\"text-align: right;\">\n",
       "      <th></th>\n",
       "      <th>cluster_ID</th>\n",
       "      <th>frequency</th>\n",
       "      <th>recency</th>\n",
       "      <th>avg_purchase_amt</th>\n",
       "      <th>cluster_size</th>\n",
       "    </tr>\n",
       "  </thead>\n",
       "  <tbody>\n",
       "    <tr>\n",
       "      <th>0</th>\n",
       "      <td>0</td>\n",
       "      <td>2.021692</td>\n",
       "      <td>692.078091</td>\n",
       "      <td>26.666667</td>\n",
       "      <td>5532</td>\n",
       "    </tr>\n",
       "    <tr>\n",
       "      <th>1</th>\n",
       "      <td>1</td>\n",
       "      <td>9.233760</td>\n",
       "      <td>306.005489</td>\n",
       "      <td>40.000000</td>\n",
       "      <td>2186</td>\n",
       "    </tr>\n",
       "    <tr>\n",
       "      <th>2</th>\n",
       "      <td>2</td>\n",
       "      <td>1.506584</td>\n",
       "      <td>2606.617117</td>\n",
       "      <td>30.000000</td>\n",
       "      <td>5772</td>\n",
       "    </tr>\n",
       "    <tr>\n",
       "      <th>3</th>\n",
       "      <td>3</td>\n",
       "      <td>2.916538</td>\n",
       "      <td>1031.744977</td>\n",
       "      <td>265.000000</td>\n",
       "      <td>647</td>\n",
       "    </tr>\n",
       "    <tr>\n",
       "      <th>4</th>\n",
       "      <td>4</td>\n",
       "      <td>2.170794</td>\n",
       "      <td>669.804206</td>\n",
       "      <td>60.000000</td>\n",
       "      <td>4280</td>\n",
       "    </tr>\n",
       "  </tbody>\n",
       "</table>\n",
       "</div>"
      ],
      "text/plain": [
       "   cluster_ID  frequency      recency  avg_purchase_amt  cluster_size\n",
       "0           0   2.021692   692.078091         26.666667          5532\n",
       "1           1   9.233760   306.005489         40.000000          2186\n",
       "2           2   1.506584  2606.617117         30.000000          5772\n",
       "3           3   2.916538  1031.744977        265.000000           647\n",
       "4           4   2.170794   669.804206         60.000000          4280"
      ]
     },
     "execution_count": 33,
     "metadata": {},
     "output_type": "execute_result"
    }
   ],
   "source": [
    "customer_df_new.head()"
   ]
  },
  {
   "cell_type": "code",
   "execution_count": 34,
   "metadata": {},
   "outputs": [],
   "source": [
    "# Calculating revenue for each cluster \n",
    "\n",
    "customer_df_new[\"revenue\"]= customer_df_new.frequency*customer_df_new.avg_purchase_amt*customer_df_new.cluster_size"
   ]
  },
  {
   "cell_type": "code",
   "execution_count": 35,
   "metadata": {},
   "outputs": [
    {
     "data": {
      "text/html": [
       "<div>\n",
       "<style scoped>\n",
       "    .dataframe tbody tr th:only-of-type {\n",
       "        vertical-align: middle;\n",
       "    }\n",
       "\n",
       "    .dataframe tbody tr th {\n",
       "        vertical-align: top;\n",
       "    }\n",
       "\n",
       "    .dataframe thead th {\n",
       "        text-align: right;\n",
       "    }\n",
       "</style>\n",
       "<table border=\"1\" class=\"dataframe\">\n",
       "  <thead>\n",
       "    <tr style=\"text-align: right;\">\n",
       "      <th></th>\n",
       "      <th>cluster_ID</th>\n",
       "      <th>frequency</th>\n",
       "      <th>recency</th>\n",
       "      <th>avg_purchase_amt</th>\n",
       "      <th>cluster_size</th>\n",
       "      <th>revenue</th>\n",
       "    </tr>\n",
       "  </thead>\n",
       "  <tbody>\n",
       "    <tr>\n",
       "      <th>0</th>\n",
       "      <td>0</td>\n",
       "      <td>2.021692</td>\n",
       "      <td>692.078091</td>\n",
       "      <td>26.666667</td>\n",
       "      <td>5532</td>\n",
       "      <td>298240.0</td>\n",
       "    </tr>\n",
       "    <tr>\n",
       "      <th>1</th>\n",
       "      <td>1</td>\n",
       "      <td>9.233760</td>\n",
       "      <td>306.005489</td>\n",
       "      <td>40.000000</td>\n",
       "      <td>2186</td>\n",
       "      <td>807400.0</td>\n",
       "    </tr>\n",
       "    <tr>\n",
       "      <th>2</th>\n",
       "      <td>2</td>\n",
       "      <td>1.506584</td>\n",
       "      <td>2606.617117</td>\n",
       "      <td>30.000000</td>\n",
       "      <td>5772</td>\n",
       "      <td>260880.0</td>\n",
       "    </tr>\n",
       "    <tr>\n",
       "      <th>3</th>\n",
       "      <td>3</td>\n",
       "      <td>2.916538</td>\n",
       "      <td>1031.744977</td>\n",
       "      <td>265.000000</td>\n",
       "      <td>647</td>\n",
       "      <td>500055.0</td>\n",
       "    </tr>\n",
       "    <tr>\n",
       "      <th>4</th>\n",
       "      <td>4</td>\n",
       "      <td>2.170794</td>\n",
       "      <td>669.804206</td>\n",
       "      <td>60.000000</td>\n",
       "      <td>4280</td>\n",
       "      <td>557460.0</td>\n",
       "    </tr>\n",
       "  </tbody>\n",
       "</table>\n",
       "</div>"
      ],
      "text/plain": [
       "   cluster_ID  frequency      recency  avg_purchase_amt  cluster_size  \\\n",
       "0           0   2.021692   692.078091         26.666667          5532   \n",
       "1           1   9.233760   306.005489         40.000000          2186   \n",
       "2           2   1.506584  2606.617117         30.000000          5772   \n",
       "3           3   2.916538  1031.744977        265.000000           647   \n",
       "4           4   2.170794   669.804206         60.000000          4280   \n",
       "\n",
       "    revenue  \n",
       "0  298240.0  \n",
       "1  807400.0  \n",
       "2  260880.0  \n",
       "3  500055.0  \n",
       "4  557460.0  "
      ]
     },
     "execution_count": 35,
     "metadata": {},
     "output_type": "execute_result"
    }
   ],
   "source": [
    "customer_df_new.head()"
   ]
  },
  {
   "cell_type": "markdown",
   "metadata": {},
   "source": [
    "# Inferences and Proposed Marketing Actions\n",
    "\n",
    "1. **Cluster: 0, 1, 4** are found to be important clusters.\n",
    "2. **Cluster: 0** is found to be useful because of the good cluster size, recency of the customers is less then 2 years and generating revenue of 298240.\n",
    "3. **Cluster: 1** is found to be useful because recency of the customers is less than 1 year, generating revenue of 807400 and also loyal customers because the frequency is also high.\n",
    "4. **Cluster: 4** is found to be useful because average monetary value is high for each customer, good cluster size and recency of the customers is less then 2 years\n",
    "5. **Cluster: 2, 3** are not useful because the recency of the customer are almost 8 years and more than 3 years respectively.\n",
    "\n",
    "Since we are constrained in selecting only 2 clusters. We are selecting **Cluster 1 and 4** \n",
    "\n",
    "**Proposed marketing action for cluster 1**\n",
    "\n",
    "1. Use Market Basket Analysis to recommend new product.\n",
    "2. To increase the frequency, we can give discount coupons that will be valid for some time and can be redeemed during their next visit.\n",
    "3. Create recommendation system in which we will give credit in the form of referral coupons so that the customer bring new customers.\n",
    "\n",
    "**Proposed marketing action for cluster 4**\n",
    "\n",
    "1. we can take feedback from the customers and try to understand what makes them to churn so according to that we will give strategized personalized coupons and discounts to bring them back.\n",
    "2. According to past purchase history we can recommend new items with attractive discount.\n",
    "3. Keep customer updated about new product range addition by personalized mail and messages.\n",
    "\n",
    "========================================================================================================================="
   ]
  },
  {
   "cell_type": "markdown",
   "metadata": {},
   "source": [
    "**Task 2**<br><br>\n",
    "\n",
    "Using R, F, M try building segments which are more from the managerial implementation angle and common-sense-led actionable. For example, (i) by giving scores based on R, F, M and creating a score for each customer and then segmenting them OR (ii) by creating two groups High / Low for each of the variables R, F and M and then looking at the all possible 2X2X2 = 8 segments. Select the two most important segments for this business to act upon. Why do you think these two segments are important? What Marketing actions do you propose to take, to target and derive more business from these two segments?"
   ]
  },
  {
   "cell_type": "code",
   "execution_count": 58,
   "metadata": {},
   "outputs": [],
   "source": [
    "# Craeting a copy of original purchase dataframe to use for task 2\n",
    "\n",
    "purchases_df_2 = purchases_df.copy(deep=True)"
   ]
  },
  {
   "cell_type": "code",
   "execution_count": 59,
   "metadata": {},
   "outputs": [],
   "source": [
    "# Calculating R F M and first purchase of the customer from the purchase dataframe \n",
    "\n",
    "frequency = purchases_df_2.groupby(['customer_id']).size().to_frame('frequency').reset_index()\n",
    "recency_amt = purchases_df_2.groupby(['customer_id']).agg({'days_since':min,'purchase_amt':'mean'}).reset_index()\n",
    "first_purchase=purchases_df_2.groupby([\"customer_id\"]).agg({'days_since':max}).reset_index()\n",
    "first_purchase.rename(columns={\"days_since\":\"first_purchase\"},inplace=True)\n",
    "recency_amt.rename(columns={'days_since':'recency', 'purchase_amt':'avg_purchase_amt'}, inplace = True)"
   ]
  },
  {
   "cell_type": "code",
   "execution_count": 60,
   "metadata": {},
   "outputs": [],
   "source": [
    "# Merging the R F M values which was calculated seperately\n",
    "\n",
    "temp = pd.merge(frequency, recency_amt, on='customer_id')\n",
    "customer_df_1 = pd.merge(temp,first_purchase,on=\"customer_id\")"
   ]
  },
  {
   "cell_type": "code",
   "execution_count": 61,
   "metadata": {},
   "outputs": [
    {
     "data": {
      "text/html": [
       "<div>\n",
       "<style scoped>\n",
       "    .dataframe tbody tr th:only-of-type {\n",
       "        vertical-align: middle;\n",
       "    }\n",
       "\n",
       "    .dataframe tbody tr th {\n",
       "        vertical-align: top;\n",
       "    }\n",
       "\n",
       "    .dataframe thead th {\n",
       "        text-align: right;\n",
       "    }\n",
       "</style>\n",
       "<table border=\"1\" class=\"dataframe\">\n",
       "  <thead>\n",
       "    <tr style=\"text-align: right;\">\n",
       "      <th></th>\n",
       "      <th>customer_id</th>\n",
       "      <th>frequency</th>\n",
       "      <th>recency</th>\n",
       "      <th>avg_purchase_amt</th>\n",
       "      <th>first_purchase</th>\n",
       "    </tr>\n",
       "  </thead>\n",
       "  <tbody>\n",
       "    <tr>\n",
       "      <th>0</th>\n",
       "      <td>10</td>\n",
       "      <td>1</td>\n",
       "      <td>3829</td>\n",
       "      <td>30.000000</td>\n",
       "      <td>3829</td>\n",
       "    </tr>\n",
       "    <tr>\n",
       "      <th>1</th>\n",
       "      <td>80</td>\n",
       "      <td>7</td>\n",
       "      <td>343</td>\n",
       "      <td>71.428571</td>\n",
       "      <td>3751</td>\n",
       "    </tr>\n",
       "    <tr>\n",
       "      <th>2</th>\n",
       "      <td>90</td>\n",
       "      <td>10</td>\n",
       "      <td>758</td>\n",
       "      <td>115.800000</td>\n",
       "      <td>3783</td>\n",
       "    </tr>\n",
       "    <tr>\n",
       "      <th>3</th>\n",
       "      <td>120</td>\n",
       "      <td>1</td>\n",
       "      <td>1401</td>\n",
       "      <td>20.000000</td>\n",
       "      <td>1401</td>\n",
       "    </tr>\n",
       "    <tr>\n",
       "      <th>4</th>\n",
       "      <td>130</td>\n",
       "      <td>2</td>\n",
       "      <td>2970</td>\n",
       "      <td>50.000000</td>\n",
       "      <td>3710</td>\n",
       "    </tr>\n",
       "  </tbody>\n",
       "</table>\n",
       "</div>"
      ],
      "text/plain": [
       "   customer_id  frequency  recency  avg_purchase_amt  first_purchase\n",
       "0           10          1     3829         30.000000            3829\n",
       "1           80          7      343         71.428571            3751\n",
       "2           90         10      758        115.800000            3783\n",
       "3          120          1     1401         20.000000            1401\n",
       "4          130          2     2970         50.000000            3710"
      ]
     },
     "execution_count": 61,
     "metadata": {},
     "output_type": "execute_result"
    }
   ],
   "source": [
    "customer_df_1.head()"
   ]
  },
  {
   "cell_type": "code",
   "execution_count": 62,
   "metadata": {},
   "outputs": [],
   "source": [
    "# Creating new column segment and filling the values with NA\n",
    "\n",
    "customer_df_1[\"segment\"] = \"NA\""
   ]
  },
  {
   "cell_type": "code",
   "execution_count": 63,
   "metadata": {},
   "outputs": [],
   "source": [
    "# Segmenting customers based on the rules defined \n",
    "\n",
    "customer_df_1.loc[customer_df_1.recency >= (365*3), 'segment'] = 'inactive'\n",
    "customer_df_1.loc[(customer_df_1.recency <=(365*3)) & (customer_df_1.recency > (365*2)), 'segment'] = \"cold\"\n",
    "customer_df_1.loc[(customer_df_1.recency <=(365*2)) & (customer_df_1.recency > (365*1)), 'segment'] = \"warm\"\n",
    "customer_df_1.loc[customer_df_1.recency <=365, 'segment'] = \"active\""
   ]
  },
  {
   "cell_type": "code",
   "execution_count": 64,
   "metadata": {},
   "outputs": [
    {
     "data": {
      "text/plain": [
       "inactive    9158\n",
       "active      5398\n",
       "warm        1958\n",
       "cold        1903\n",
       "Name: segment, dtype: int64"
      ]
     },
     "execution_count": 64,
     "metadata": {},
     "output_type": "execute_result"
    }
   ],
   "source": [
    "# Checking the count of customer in each segment \n",
    "\n",
    "customer_df_1.segment.value_counts()"
   ]
  },
  {
   "cell_type": "code",
   "execution_count": 65,
   "metadata": {},
   "outputs": [],
   "source": [
    "# Creating new dataframe with only active and warm customers.\n",
    "\n",
    "customer_new = customer_df_1[(customer_df_1.segment==\"active\") | (customer_df_1.segment==\"warm\")]"
   ]
  },
  {
   "cell_type": "code",
   "execution_count": 66,
   "metadata": {},
   "outputs": [
    {
     "data": {
      "text/html": [
       "<div>\n",
       "<style scoped>\n",
       "    .dataframe tbody tr th:only-of-type {\n",
       "        vertical-align: middle;\n",
       "    }\n",
       "\n",
       "    .dataframe tbody tr th {\n",
       "        vertical-align: top;\n",
       "    }\n",
       "\n",
       "    .dataframe thead th {\n",
       "        text-align: right;\n",
       "    }\n",
       "</style>\n",
       "<table border=\"1\" class=\"dataframe\">\n",
       "  <thead>\n",
       "    <tr style=\"text-align: right;\">\n",
       "      <th></th>\n",
       "      <th>customer_id</th>\n",
       "      <th>frequency</th>\n",
       "      <th>recency</th>\n",
       "      <th>avg_purchase_amt</th>\n",
       "      <th>first_purchase</th>\n",
       "    </tr>\n",
       "  </thead>\n",
       "  <tbody>\n",
       "    <tr>\n",
       "      <th>count</th>\n",
       "      <td>7356.000000</td>\n",
       "      <td>7356.000000</td>\n",
       "      <td>7356.000000</td>\n",
       "      <td>7356.000000</td>\n",
       "      <td>7356.000000</td>\n",
       "    </tr>\n",
       "    <tr>\n",
       "      <th>mean</th>\n",
       "      <td>169872.315117</td>\n",
       "      <td>4.111338</td>\n",
       "      <td>203.602773</td>\n",
       "      <td>71.410500</td>\n",
       "      <td>1426.914220</td>\n",
       "    </tr>\n",
       "    <tr>\n",
       "      <th>std</th>\n",
       "      <td>75878.952350</td>\n",
       "      <td>3.808785</td>\n",
       "      <td>200.928740</td>\n",
       "      <td>192.258907</td>\n",
       "      <td>1223.260045</td>\n",
       "    </tr>\n",
       "    <tr>\n",
       "      <th>min</th>\n",
       "      <td>80.000000</td>\n",
       "      <td>1.000000</td>\n",
       "      <td>1.000000</td>\n",
       "      <td>5.000000</td>\n",
       "      <td>1.000000</td>\n",
       "    </tr>\n",
       "    <tr>\n",
       "      <th>25%</th>\n",
       "      <td>110617.500000</td>\n",
       "      <td>1.000000</td>\n",
       "      <td>34.000000</td>\n",
       "      <td>29.000000</td>\n",
       "      <td>413.000000</td>\n",
       "    </tr>\n",
       "    <tr>\n",
       "      <th>50%</th>\n",
       "      <td>192495.000000</td>\n",
       "      <td>3.000000</td>\n",
       "      <td>108.000000</td>\n",
       "      <td>38.000000</td>\n",
       "      <td>1040.000000</td>\n",
       "    </tr>\n",
       "    <tr>\n",
       "      <th>75%</th>\n",
       "      <td>230182.500000</td>\n",
       "      <td>6.000000</td>\n",
       "      <td>366.000000</td>\n",
       "      <td>60.000000</td>\n",
       "      <td>2568.000000</td>\n",
       "    </tr>\n",
       "    <tr>\n",
       "      <th>max</th>\n",
       "      <td>264200.000000</td>\n",
       "      <td>45.000000</td>\n",
       "      <td>720.000000</td>\n",
       "      <td>4500.000000</td>\n",
       "      <td>4012.000000</td>\n",
       "    </tr>\n",
       "  </tbody>\n",
       "</table>\n",
       "</div>"
      ],
      "text/plain": [
       "         customer_id    frequency      recency  avg_purchase_amt  \\\n",
       "count    7356.000000  7356.000000  7356.000000       7356.000000   \n",
       "mean   169872.315117     4.111338   203.602773         71.410500   \n",
       "std     75878.952350     3.808785   200.928740        192.258907   \n",
       "min        80.000000     1.000000     1.000000          5.000000   \n",
       "25%    110617.500000     1.000000    34.000000         29.000000   \n",
       "50%    192495.000000     3.000000   108.000000         38.000000   \n",
       "75%    230182.500000     6.000000   366.000000         60.000000   \n",
       "max    264200.000000    45.000000   720.000000       4500.000000   \n",
       "\n",
       "       first_purchase  \n",
       "count     7356.000000  \n",
       "mean      1426.914220  \n",
       "std       1223.260045  \n",
       "min          1.000000  \n",
       "25%        413.000000  \n",
       "50%       1040.000000  \n",
       "75%       2568.000000  \n",
       "max       4012.000000  "
      ]
     },
     "execution_count": 66,
     "metadata": {},
     "output_type": "execute_result"
    }
   ],
   "source": [
    "customer_new.describe()"
   ]
  },
  {
   "cell_type": "markdown",
   "metadata": {},
   "source": [
    "# Rules defined to create segments\n",
    "\n",
    "Scale of **1 to 5** is considered to score the customer for .\n",
    "\n",
    "**5** being the highest score and **1** being the lowest score \n",
    "\n",
    "**Rules for Recency:**\n",
    "\n",
    "1. Customers who are have recency less than **8 months** are scored **5**\n",
    "2. Customers having recency between **8 to 12 months** are scored **4**\n",
    "3. Customers having recency between **12 to 16 months** are scored **3**\n",
    "4. Customers having recency between **16 to 20 months** are scored **2**\n",
    "5. Customers having recency **>20** are scored **1**\n",
    "<br>\n",
    "\n",
    "**Rules for Frequency:**\n",
    "\n",
    "1. Customers having frequency greater than **9** are scored **5**\n",
    "2. Customers having frequency between **6 to 8** are scored **4**\n",
    "3. Customers having frequency **4 and 5** are scored **3**\n",
    "4. Customers having frequency **2 and 3** are scored **2**\n",
    "5. Customers having frequency **1** are scored **1**\n",
    "<br>\n",
    "\n",
    "**Rules for Monetary Value:**\n",
    "\n",
    "1. Customers having average purchase amount **>100** are scored **5**\n",
    "2. Customers having average purchase amount between **60 to 100** are scored **4**\n",
    "3. Customers having average purchase amount between **40 to 60** are scored **3**\n",
    "4. Customers having average purchase amount between **20 to 40** are scored **2**\n",
    "5. Customers having average purchase amount **<20** are scored **1**"
   ]
  },
  {
   "cell_type": "code",
   "execution_count": 71,
   "metadata": {},
   "outputs": [],
   "source": [
    "# Scoring the Recency of each customer \n",
    "\n",
    "customer_new[\"recency_score\"] = customer_new.recency\n",
    "recency_bins = [1,240,365,480,600,np.inf]\n",
    "recency_values = [5,4,3,2,1]\n",
    "customer_new[\"recency_score\"] = pd.cut(customer_new[\"recency_score\"], bins = recency_bins, labels = recency_values, include_lowest=True, right=False)"
   ]
  },
  {
   "cell_type": "code",
   "execution_count": 72,
   "metadata": {},
   "outputs": [],
   "source": [
    "# Scoring the Frequency of each customer \n",
    "\n",
    "customer_new[\"frequency_score\"] = customer_new.frequency\n",
    "frequency_bins = [0,1,3,5,8,np.inf]\n",
    "frequency_values = [1,2,3,4,5]\n",
    "customer_new[\"frequency_score\"] = pd.cut(customer_new[\"frequency_score\"], bins = frequency_bins, labels = frequency_values, include_lowest=True, right=False)"
   ]
  },
  {
   "cell_type": "code",
   "execution_count": 73,
   "metadata": {},
   "outputs": [],
   "source": [
    "# Scoring the Monetary value of each customer \n",
    "\n",
    "customer_new[\"money_score\"] = customer_new.avg_purchase_amt\n",
    "money_bins = [0,20,40,60,100,np.inf]\n",
    "money_values = [1,2,3,4,5]\n",
    "customer_new[\"money_score\"] = pd.cut(customer_new[\"money_score\"], bins = money_bins, labels = money_values, include_lowest=True, right=False)"
   ]
  },
  {
   "cell_type": "code",
   "execution_count": 74,
   "metadata": {},
   "outputs": [],
   "source": [
    "# Calculating the total score for each customer \n",
    "\n",
    "customer_new[\"total_score\"] = customer_new[\"recency_score\"].astype(int)+customer_new[\"frequency_score\"].astype(int)+customer_new[\"money_score\"].astype(int)"
   ]
  },
  {
   "cell_type": "code",
   "execution_count": 75,
   "metadata": {},
   "outputs": [
    {
     "data": {
      "text/html": [
       "<div>\n",
       "<style scoped>\n",
       "    .dataframe tbody tr th:only-of-type {\n",
       "        vertical-align: middle;\n",
       "    }\n",
       "\n",
       "    .dataframe tbody tr th {\n",
       "        vertical-align: top;\n",
       "    }\n",
       "\n",
       "    .dataframe thead th {\n",
       "        text-align: right;\n",
       "    }\n",
       "</style>\n",
       "<table border=\"1\" class=\"dataframe\">\n",
       "  <thead>\n",
       "    <tr style=\"text-align: right;\">\n",
       "      <th></th>\n",
       "      <th>customer_id</th>\n",
       "      <th>frequency</th>\n",
       "      <th>recency</th>\n",
       "      <th>avg_purchase_amt</th>\n",
       "      <th>first_purchase</th>\n",
       "      <th>segment</th>\n",
       "      <th>recency_score</th>\n",
       "      <th>frequency_score</th>\n",
       "      <th>money_score</th>\n",
       "      <th>total_score</th>\n",
       "    </tr>\n",
       "  </thead>\n",
       "  <tbody>\n",
       "    <tr>\n",
       "      <th>1</th>\n",
       "      <td>80</td>\n",
       "      <td>7</td>\n",
       "      <td>343</td>\n",
       "      <td>71.428571</td>\n",
       "      <td>3751</td>\n",
       "      <td>active</td>\n",
       "      <td>4</td>\n",
       "      <td>4</td>\n",
       "      <td>4</td>\n",
       "      <td>12</td>\n",
       "    </tr>\n",
       "    <tr>\n",
       "      <th>9</th>\n",
       "      <td>240</td>\n",
       "      <td>4</td>\n",
       "      <td>463</td>\n",
       "      <td>16.250000</td>\n",
       "      <td>3815</td>\n",
       "      <td>warm</td>\n",
       "      <td>3</td>\n",
       "      <td>3</td>\n",
       "      <td>1</td>\n",
       "      <td>7</td>\n",
       "    </tr>\n",
       "    <tr>\n",
       "      <th>17</th>\n",
       "      <td>480</td>\n",
       "      <td>12</td>\n",
       "      <td>21</td>\n",
       "      <td>60.833333</td>\n",
       "      <td>3678</td>\n",
       "      <td>active</td>\n",
       "      <td>5</td>\n",
       "      <td>5</td>\n",
       "      <td>4</td>\n",
       "      <td>14</td>\n",
       "    </tr>\n",
       "    <tr>\n",
       "      <th>29</th>\n",
       "      <td>830</td>\n",
       "      <td>7</td>\n",
       "      <td>321</td>\n",
       "      <td>48.571429</td>\n",
       "      <td>3739</td>\n",
       "      <td>active</td>\n",
       "      <td>4</td>\n",
       "      <td>4</td>\n",
       "      <td>3</td>\n",
       "      <td>11</td>\n",
       "    </tr>\n",
       "    <tr>\n",
       "      <th>30</th>\n",
       "      <td>850</td>\n",
       "      <td>10</td>\n",
       "      <td>24</td>\n",
       "      <td>28.500000</td>\n",
       "      <td>3416</td>\n",
       "      <td>active</td>\n",
       "      <td>5</td>\n",
       "      <td>5</td>\n",
       "      <td>2</td>\n",
       "      <td>12</td>\n",
       "    </tr>\n",
       "  </tbody>\n",
       "</table>\n",
       "</div>"
      ],
      "text/plain": [
       "    customer_id  frequency  recency  avg_purchase_amt  first_purchase segment  \\\n",
       "1            80          7      343         71.428571            3751  active   \n",
       "9           240          4      463         16.250000            3815    warm   \n",
       "17          480         12       21         60.833333            3678  active   \n",
       "29          830          7      321         48.571429            3739  active   \n",
       "30          850         10       24         28.500000            3416  active   \n",
       "\n",
       "   recency_score frequency_score money_score  total_score  \n",
       "1              4               4           4           12  \n",
       "9              3               3           1            7  \n",
       "17             5               5           4           14  \n",
       "29             4               4           3           11  \n",
       "30             5               5           2           12  "
      ]
     },
     "execution_count": 75,
     "metadata": {},
     "output_type": "execute_result"
    }
   ],
   "source": [
    "customer_new.head()"
   ]
  },
  {
   "cell_type": "code",
   "execution_count": 76,
   "metadata": {},
   "outputs": [
    {
     "data": {
      "text/plain": [
       "<matplotlib.axes._subplots.AxesSubplot at 0x2773787f608>"
      ]
     },
     "execution_count": 76,
     "metadata": {},
     "output_type": "execute_result"
    },
    {
     "data": {
      "image/png": "[encoded data removed]",
      "text/plain": [
       "<Figure size 432x288 with 1 Axes>"
      ]
     },
     "metadata": {
      "needs_background": "light"
     },
     "output_type": "display_data"
    }
   ],
   "source": [
    "# Plotting count of customers with respective to scores\n",
    "\n",
    "sns.countplot(customer_new.total_score)"
   ]
  },
  {
   "cell_type": "code",
   "execution_count": 77,
   "metadata": {},
   "outputs": [],
   "source": [
    "# Segmenting customers based on the scores \n",
    "\n",
    "customer_new.drop(\"segment\",axis=1,inplace=True)\n",
    "customer_new[\"segment\"] = customer_new.total_score\n",
    "total_score_bins = [4,6,8,10,12,15]\n",
    "total_score_values = [\"seg1\",\"seg2\",\"seg3\",\"seg4\",\"seg5\"]\n",
    "customer_new[\"segment\"] = pd.cut(customer_new[\"segment\"], bins = total_score_bins, labels = total_score_values, include_lowest=True, right=False)"
   ]
  },
  {
   "cell_type": "code",
   "execution_count": 78,
   "metadata": {},
   "outputs": [],
   "source": [
    "# Calculating the representative characteristics of each segments \n",
    "\n",
    "cust_final=customer_new.groupby(\"segment\").agg({\"frequency\":\"mean\",\"recency\":\"mean\",\"avg_purchase_amt\":\"median\"}).reset_index()"
   ]
  },
  {
   "cell_type": "code",
   "execution_count": 79,
   "metadata": {},
   "outputs": [
    {
     "data": {
      "text/plain": [
       "seg1     261\n",
       "seg2     776\n",
       "seg5    1938\n",
       "seg3    1961\n",
       "seg4    2270\n",
       "Name: segment, dtype: int64"
      ]
     },
     "execution_count": 79,
     "metadata": {},
     "output_type": "execute_result"
    }
   ],
   "source": [
    "# Calculating the size of each segment \n",
    "\n",
    "customer_new[\"segment\"].value_counts(ascending=True)"
   ]
  },
  {
   "cell_type": "code",
   "execution_count": 80,
   "metadata": {},
   "outputs": [],
   "source": [
    "# Adding the segment size in the dataframe\n",
    "\n",
    "cust_final[\"seg_size\"]=pd.Series([261,776,1961,2270,1938])"
   ]
  },
  {
   "cell_type": "code",
   "execution_count": 82,
   "metadata": {},
   "outputs": [
    {
     "data": {
      "text/html": [
       "<div>\n",
       "<style scoped>\n",
       "    .dataframe tbody tr th:only-of-type {\n",
       "        vertical-align: middle;\n",
       "    }\n",
       "\n",
       "    .dataframe tbody tr th {\n",
       "        vertical-align: top;\n",
       "    }\n",
       "\n",
       "    .dataframe thead th {\n",
       "        text-align: right;\n",
       "    }\n",
       "</style>\n",
       "<table border=\"1\" class=\"dataframe\">\n",
       "  <thead>\n",
       "    <tr style=\"text-align: right;\">\n",
       "      <th></th>\n",
       "      <th>segment</th>\n",
       "      <th>frequency</th>\n",
       "      <th>recency</th>\n",
       "      <th>avg_purchase_amt</th>\n",
       "      <th>seg_size</th>\n",
       "      <th>revenue</th>\n",
       "    </tr>\n",
       "  </thead>\n",
       "  <tbody>\n",
       "    <tr>\n",
       "      <th>0</th>\n",
       "      <td>seg1</td>\n",
       "      <td>1.226054</td>\n",
       "      <td>629.831418</td>\n",
       "      <td>30.0</td>\n",
       "      <td>261</td>\n",
       "      <td>9600.0</td>\n",
       "    </tr>\n",
       "    <tr>\n",
       "      <th>1</th>\n",
       "      <td>seg2</td>\n",
       "      <td>1.717784</td>\n",
       "      <td>493.192010</td>\n",
       "      <td>30.0</td>\n",
       "      <td>776</td>\n",
       "      <td>39990.0</td>\n",
       "    </tr>\n",
       "    <tr>\n",
       "      <th>2</th>\n",
       "      <td>seg3</td>\n",
       "      <td>2.225395</td>\n",
       "      <td>225.328914</td>\n",
       "      <td>30.0</td>\n",
       "      <td>1961</td>\n",
       "      <td>130920.0</td>\n",
       "    </tr>\n",
       "    <tr>\n",
       "      <th>3</th>\n",
       "      <td>seg4</td>\n",
       "      <td>4.051101</td>\n",
       "      <td>145.770485</td>\n",
       "      <td>40.0</td>\n",
       "      <td>2270</td>\n",
       "      <td>367840.0</td>\n",
       "    </tr>\n",
       "    <tr>\n",
       "      <th>4</th>\n",
       "      <td>seg5</td>\n",
       "      <td>6.956140</td>\n",
       "      <td>87.749742</td>\n",
       "      <td>70.0</td>\n",
       "      <td>1938</td>\n",
       "      <td>943670.0</td>\n",
       "    </tr>\n",
       "  </tbody>\n",
       "</table>\n",
       "</div>"
      ],
      "text/plain": [
       "  segment  frequency     recency  avg_purchase_amt  seg_size   revenue\n",
       "0    seg1   1.226054  629.831418              30.0       261    9600.0\n",
       "1    seg2   1.717784  493.192010              30.0       776   39990.0\n",
       "2    seg3   2.225395  225.328914              30.0      1961  130920.0\n",
       "3    seg4   4.051101  145.770485              40.0      2270  367840.0\n",
       "4    seg5   6.956140   87.749742              70.0      1938  943670.0"
      ]
     },
     "execution_count": 82,
     "metadata": {},
     "output_type": "execute_result"
    }
   ],
   "source": [
    "# Revenue for each segments is calculated\n",
    "\n",
    "cust_final[\"revenue\"] = cust_final[\"avg_purchase_amt\"]*cust_final[\"seg_size\"]*cust_final[\"frequency\"]\n",
    "cust_final.head()"
   ]
  },
  {
   "cell_type": "markdown",
   "metadata": {},
   "source": [
    "# Inferences and Marketing Actions\n",
    "\n",
    "1. High Valued Premium Customers (seg 5 ) -These are the high spending frequent customers we need to maintain a very friendly relationship with these customers and the individual preferences should be given weightage. Personalized offers need to be sent out to this cluster of customers.\n",
    "2. Low spending Loyal active customers (seg 4 and 3 ) - We need to try to upsell to these customers by either providing them personlized offers or expanding their buying options."
   ]
  },
  {
   "cell_type": "code",
   "execution_count": null,
   "metadata": {},
   "outputs": [],
   "source": []
  }
 ],
 "metadata": {
  "kernelspec": {
   "display_name": "Python 3",
   "language": "python",
   "name": "python3"
  },
  "language_info": {
   "codemirror_mode": {
    "name": "ipython",
    "version": 3
   },
   "file_extension": ".py",
   "mimetype": "text/x-python",
   "name": "python",
   "nbconvert_exporter": "python",
   "pygments_lexer": "ipython3",
   "version": "3.7.4"
  }
 },
 "nbformat": 4,
 "nbformat_minor": 4
}
